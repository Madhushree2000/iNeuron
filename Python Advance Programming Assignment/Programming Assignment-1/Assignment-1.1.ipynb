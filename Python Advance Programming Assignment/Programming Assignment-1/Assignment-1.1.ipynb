{
 "cells": [
  {
   "cell_type": "markdown",
   "metadata": {},
   "source": [
    "\n",
    "Q1. Write a function that takes a list of lists and returns the value of all of the\n",
    "symbols in it, where each symbol adds or takes something from the total\n",
    "score. Symbol values:\n",
    "\"#\" = 5\n",
    "\"O\" = 3\n",
    "\"X\" = 1\n",
    "\"!\" = -1\n",
    "\"!!\" = -3\n",
    "\"!!!\" = -5\n",
    "A list of lists containing 2 #s, a O, and a !!! would equal (0 + 5 + 5 + 3 - 5) 8.\n",
    "If the final score is negative, return 0 (e.g. 3 #s, 3 !!s, 2 !!!s and a X would be\n",
    "(0 + 5 + 5 + 5 - 3 - 3 - 3 - 5 - 5 + 1) -3, so return 0.\n",
    "\n",
    "Examples\n",
    "\n",
    "check_score([\n",
    "  [\"#\", \"!\"],\n",
    "  [\"!!\", \"X\"]\n",
    "]) ➞ 2\n",
    "\n",
    "check_score([\n",
    "  [\"!!!\", \"O\", \"!\"],\n",
    "  [\"X\", \"#\", \"!!!\"],\n",
    "  [\"!!\", \"X\", \"O\"]\n",
    "]) ➞ 0\n"
   ]
  },
  {
   "cell_type": "code",
   "execution_count": 2,
   "metadata": {},
   "outputs": [],
   "source": [
    "import logging\n",
    "logging.basicConfig(filename = \"Assignment1.log\", level = logging.INFO, \n",
    "                     format = '%(asctime)s %(levelname)s %(message)s')"
   ]
  },
  {
   "cell_type": "code",
   "execution_count": 3,
   "metadata": {},
   "outputs": [],
   "source": [
    "def check_score(score):\n",
    "    try:\n",
    "        s = 0\n",
    "        for i in score:\n",
    "            for j in i:\n",
    "                if (j == \"#\"):\n",
    "                    s = s + 5\n",
    "                elif (j == \"O\"):\n",
    "                     s = s + 3\n",
    "                elif (j == \"X\"):\n",
    "                     s = s + 1\n",
    "                elif (j == \"!\"):\n",
    "                     s = s - 1\n",
    "                elif (j == \"!!\"):\n",
    "                     s = s - 3\n",
    "                elif (j == \"!!!\"):\n",
    "                     s = s - 5\n",
    "        logging.info(\"Ques-1 executed succesfully\")\n",
    "        if (s < 0):\n",
    "                    s = 0\n",
    "        return s\n",
    "    except Exception as e:\n",
    "        logging.exception(\"exception occured in Ques-1 \" + str(e))\n",
    "        raise Exception(\"check_score failed\")"
   ]
  },
  {
   "cell_type": "code",
   "execution_count": 4,
   "metadata": {},
   "outputs": [
    {
     "name": "stdout",
     "output_type": "stream",
     "text": [
      "0\n"
     ]
    }
   ],
   "source": [
    "symbol = [[\"#\",\"!\"],[\"!!\",\"O\"],[\"X\",\"!!!\"]]\n",
    "ans = check_score(symbol)\n",
    "print(ans)"
   ]
  },
  {
   "cell_type": "code",
   "execution_count": null,
   "metadata": {},
   "outputs": [],
   "source": []
  }
 ],
 "metadata": {
  "interpreter": {
   "hash": "207c0d44758c6669a77097a940d54e0c958e1873e8368d84e343a511989e3c6f"
  },
  "kernelspec": {
   "display_name": "Python 3.8.8 64-bit ('base': conda)",
   "language": "python",
   "name": "python3"
  },
  "language_info": {
   "codemirror_mode": {
    "name": "ipython",
    "version": 3
   },
   "file_extension": ".py",
   "mimetype": "text/x-python",
   "name": "python",
   "nbconvert_exporter": "python",
   "pygments_lexer": "ipython3",
   "version": "3.8.8"
  },
  "orig_nbformat": 4
 },
 "nbformat": 4,
 "nbformat_minor": 2
}
