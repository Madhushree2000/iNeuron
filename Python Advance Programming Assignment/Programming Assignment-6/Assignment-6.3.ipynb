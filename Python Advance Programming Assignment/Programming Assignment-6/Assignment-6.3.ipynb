{
 "cells": [
  {
   "cell_type": "markdown",
   "metadata": {},
   "source": [
    "Q3. A Fibonacci string is a precedence of the Fibonacci series. It works with any two characters of the English alphabet (as opposed to the numbers 0 and 1 in the Fibonacci series) as the initial items and concatenates them together as it progresses in a similar fashion as the Fibonacci series.\n",
    "\n",
    "Examples\n",
    "\n",
    "fib_str(3, [\"j\", \"h\"]) ➞ \"j, h, hj\"\n",
    "\n",
    "fib_str(5, [\"e\", \"a\"]) ➞ \"e, a, ae, aea, aeaae\"\n",
    "\n",
    "fib_str(6, [\"n\", \"k\"]) ➞ \"n, k, kn, knk, knkkn, knkknknk\""
   ]
  },
  {
   "cell_type": "code",
   "execution_count": 1,
   "metadata": {},
   "outputs": [],
   "source": [
    "def fib_str(n, st):\n",
    "\n",
    "    if n == 0:\n",
    "        return None\n",
    "    elif n == 1 or n == 2:\n",
    "        return st[n-1]    \n",
    "    else:\n",
    "        for i in range(2,n):\n",
    "            st.append(st[i-2] + st[i-1])\n",
    "        return st"
   ]
  },
  {
   "cell_type": "code",
   "execution_count": 2,
   "metadata": {},
   "outputs": [
    {
     "data": {
      "text/plain": [
       "['n', 'k', 'nk', 'knk', 'nkknk', 'knknkknk']"
      ]
     },
     "execution_count": 2,
     "metadata": {},
     "output_type": "execute_result"
    }
   ],
   "source": [
    "fib_str(6, [\"n\", \"k\"])"
   ]
  },
  {
   "cell_type": "code",
   "execution_count": 3,
   "metadata": {},
   "outputs": [
    {
     "data": {
      "text/plain": [
       "['j', 'h', 'jh', 'hjh']"
      ]
     },
     "execution_count": 3,
     "metadata": {},
     "output_type": "execute_result"
    }
   ],
   "source": [
    "fib_str(4, [\"j\", \"h\"])"
   ]
  },
  {
   "cell_type": "code",
   "execution_count": 4,
   "metadata": {},
   "outputs": [
    {
     "data": {
      "text/plain": [
       "['e',\n",
       " 'a',\n",
       " 'ea',\n",
       " 'aea',\n",
       " 'eaaea',\n",
       " 'aeaeaaea',\n",
       " 'eaaeaaeaeaaea',\n",
       " 'aeaeaaeaeaaeaaeaeaaea',\n",
       " 'eaaeaaeaeaaeaaeaeaaeaeaaeaaeaeaaea',\n",
       " 'aeaeaaeaeaaeaaeaeaaeaeaaeaaeaeaaeaaeaeaaeaeaaeaaeaeaaea']"
      ]
     },
     "execution_count": 4,
     "metadata": {},
     "output_type": "execute_result"
    }
   ],
   "source": [
    "fib_str(10, [\"e\", \"a\"])"
   ]
  }
 ],
 "metadata": {
  "interpreter": {
   "hash": "207c0d44758c6669a77097a940d54e0c958e1873e8368d84e343a511989e3c6f"
  },
  "kernelspec": {
   "display_name": "Python 3.8.8 ('base')",
   "language": "python",
   "name": "python3"
  },
  "language_info": {
   "codemirror_mode": {
    "name": "ipython",
    "version": 3
   },
   "file_extension": ".py",
   "mimetype": "text/x-python",
   "name": "python",
   "nbconvert_exporter": "python",
   "pygments_lexer": "ipython3",
   "version": "3.8.8"
  },
  "orig_nbformat": 4
 },
 "nbformat": 4,
 "nbformat_minor": 2
}
