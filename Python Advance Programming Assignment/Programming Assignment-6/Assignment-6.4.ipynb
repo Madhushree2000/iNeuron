{
 "cells": [
  {
   "cell_type": "markdown",
   "metadata": {},
   "source": [
    "Q4. Given an integer between 0 and 26, make a variable (self.answer). That variable would be assigned to a string in this format:\n",
    "\n",
    "\"nines:your answer, threes:your answer, ones:your answer\"\n",
    "\n",
    "You need to find out how many ones, threes, and nines it would at least take for the number of each to add up to the given integer when multiplied by one, three or nine (depends).\n",
    "\n",
    "Examples\n",
    "\n",
    "ones_threes_nines(10) ➞ \"nines:1, threes:0, ones:1\"\n",
    "\n",
    "ones_threes_nines(15) ➞ \"nines:1, threes:2, ones:0\"\n",
    "\n",
    "ones_threes_nines(22) ➞ \"nines:2, threes:1, ones:1\""
   ]
  },
  {
   "cell_type": "code",
   "execution_count": 1,
   "metadata": {},
   "outputs": [],
   "source": [
    "def ones_threes_nines(n):\n",
    "    try:\n",
    "        c9 = 0\n",
    "        c3 = 0\n",
    "        c1 = 0\n",
    "        while n > 0:\n",
    "            if n >= 9:\n",
    "                c9 += 1\n",
    "                n = n - 9\n",
    "\n",
    "            elif n >=3:\n",
    "                c3 += 1\n",
    "                n = n - 3\n",
    "            \n",
    "            else:\n",
    "                 c1 = c1 + 1\n",
    "                 n = n - 1\n",
    "        \n",
    "        answer = {\"nines\": str(c9), \"threes\": str(c3), \"ones\": str(c1)}\n",
    "        return answer\n",
    "    \n",
    "    except:\n",
    "        raise Exception()"
   ]
  },
  {
   "cell_type": "code",
   "execution_count": 2,
   "metadata": {},
   "outputs": [
    {
     "data": {
      "text/plain": [
       "{'nines': '2', 'threes': '1', 'ones': '1'}"
      ]
     },
     "execution_count": 2,
     "metadata": {},
     "output_type": "execute_result"
    }
   ],
   "source": [
    "ones_threes_nines(22)"
   ]
  },
  {
   "cell_type": "code",
   "execution_count": 3,
   "metadata": {},
   "outputs": [
    {
     "data": {
      "text/plain": [
       "{'nines': '1', 'threes': '0', 'ones': '1'}"
      ]
     },
     "execution_count": 3,
     "metadata": {},
     "output_type": "execute_result"
    }
   ],
   "source": [
    "ones_threes_nines(10)"
   ]
  },
  {
   "cell_type": "code",
   "execution_count": 4,
   "metadata": {},
   "outputs": [
    {
     "data": {
      "text/plain": [
       "{'nines': '1', 'threes': '2', 'ones': '0'}"
      ]
     },
     "execution_count": 4,
     "metadata": {},
     "output_type": "execute_result"
    }
   ],
   "source": [
    "ones_threes_nines(15)"
   ]
  }
 ],
 "metadata": {
  "interpreter": {
   "hash": "207c0d44758c6669a77097a940d54e0c958e1873e8368d84e343a511989e3c6f"
  },
  "kernelspec": {
   "display_name": "Python 3.8.8 ('base')",
   "language": "python",
   "name": "python3"
  },
  "language_info": {
   "codemirror_mode": {
    "name": "ipython",
    "version": 3
   },
   "file_extension": ".py",
   "mimetype": "text/x-python",
   "name": "python",
   "nbconvert_exporter": "python",
   "pygments_lexer": "ipython3",
   "version": "3.8.8"
  },
  "orig_nbformat": 4
 },
 "nbformat": 4,
 "nbformat_minor": 2
}
