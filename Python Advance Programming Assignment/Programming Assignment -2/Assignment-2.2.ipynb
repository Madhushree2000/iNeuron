{
 "cells": [
  {
   "cell_type": "markdown",
   "metadata": {},
   "source": [
    "2.  Make a function that encrypts a given input with these steps:\n",
    "\n",
    "Input: \"apple\"\n",
    "\n",
    "Step 1: Reverse the input: \"elppa\"\n",
    "\n",
    "Step 2: Replace all vowels using the following chart:\n",
    "\n",
    "* a => 0\n",
    "* e => 1\n",
    "* i => 2\n",
    "* o => 2\n",
    "* u => 3\n",
    "\n",
    " Output: \"1lpp0\"\n",
    "\n",
    "Step 3: Add \"aca\" to the end of the word: \"1lpp0aca\"\n",
    "\n",
    "Output: \"1lpp0aca\"\n",
    "\n",
    "Examples\n",
    "\n",
    "encrypt(\"banana\") ➞ \"0n0n0baca\"\n",
    "\n",
    "encrypt(\"karaca\") ➞ \"0c0r0kaca\"\n",
    "\n",
    "encrypt(\"burak\") ➞ \"k0r3baca\"\n",
    "\n",
    "encrypt(\"alpaca\") ➞ \"0c0pl0aca\"\n",
    "\n"
   ]
  },
  {
   "cell_type": "code",
   "execution_count": 1,
   "metadata": {},
   "outputs": [],
   "source": [
    "import logging\n",
    "logging.basicConfig(filename = \"Assignment2.log\", level = logging.INFO, \n",
    "                     format = '%(asctime)s %(levelname)s %(message)s')"
   ]
  },
  {
   "cell_type": "code",
   "execution_count": 10,
   "metadata": {},
   "outputs": [],
   "source": [
    "def encrypt(s):\n",
    "    try:\n",
    "        ns = \"\"\n",
    "        #Step 1 : Reverse the input\n",
    "        rs = s[::-1]\n",
    "\n",
    "        #Step 2: Replace all vowels using the chart\n",
    "        for i in rs:\n",
    "            if i == 'a' or i == 'A':\n",
    "                ns = ns + \"0\"\n",
    "\n",
    "            elif i == 'e' or i == 'E':\n",
    "                ns = ns + \"1\"\n",
    "\n",
    "            elif i == 'i' or i == 'I':\n",
    "                ns = ns + \"2\"\n",
    "\n",
    "            elif i == 'o' or i == 'O':\n",
    "                ns = ns + \"2\"\n",
    "\n",
    "            elif i == 'u' or i == 'U':\n",
    "                ns = ns + \"3\"\n",
    "            \n",
    "            else:\n",
    "                ns = ns + i\n",
    "        \n",
    "        #Step 3 : Add \"aca\" to the end of the word\n",
    "        ns = ns + \"aca\"\n",
    "        logging.info(\"Ques-1 executed succesfully\")\n",
    "        return ns\n",
    "\n",
    "    except Exception as e:\n",
    "        logging.exception(\"exception occured in Ques-1 \" + str(e))\n",
    "        raise Exception(\"encrypt function failed\")\n",
    "\n",
    "                \n"
   ]
  },
  {
   "cell_type": "code",
   "execution_count": 11,
   "metadata": {},
   "outputs": [
    {
     "data": {
      "text/plain": [
       "'0n0n0baca'"
      ]
     },
     "execution_count": 11,
     "metadata": {},
     "output_type": "execute_result"
    }
   ],
   "source": [
    "encrypt(\"banana\")"
   ]
  },
  {
   "cell_type": "code",
   "execution_count": 12,
   "metadata": {},
   "outputs": [
    {
     "data": {
      "text/plain": [
       "'0c0r0kaca'"
      ]
     },
     "execution_count": 12,
     "metadata": {},
     "output_type": "execute_result"
    }
   ],
   "source": [
    "encrypt(\"karaca\")"
   ]
  },
  {
   "cell_type": "code",
   "execution_count": 9,
   "metadata": {},
   "outputs": [
    {
     "data": {
      "text/plain": [
       "'n2r31N2aca'"
      ]
     },
     "execution_count": 9,
     "metadata": {},
     "output_type": "execute_result"
    }
   ],
   "source": [
    "encrypt(\"iNeuron\")"
   ]
  }
 ],
 "metadata": {
  "interpreter": {
   "hash": "207c0d44758c6669a77097a940d54e0c958e1873e8368d84e343a511989e3c6f"
  },
  "kernelspec": {
   "display_name": "Python 3.8.8 64-bit ('base': conda)",
   "language": "python",
   "name": "python3"
  },
  "language_info": {
   "codemirror_mode": {
    "name": "ipython",
    "version": 3
   },
   "file_extension": ".py",
   "mimetype": "text/x-python",
   "name": "python",
   "nbconvert_exporter": "python",
   "pygments_lexer": "ipython3",
   "version": "3.8.8"
  },
  "orig_nbformat": 4
 },
 "nbformat": 4,
 "nbformat_minor": 2
}
