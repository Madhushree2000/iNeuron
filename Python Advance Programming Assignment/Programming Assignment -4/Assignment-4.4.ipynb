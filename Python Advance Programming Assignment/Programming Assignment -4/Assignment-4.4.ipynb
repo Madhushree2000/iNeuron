{
 "cells": [
  {
   "cell_type": "markdown",
   "metadata": {},
   "source": [
    "4. Write a function that takes an IP address and returns the domain name using PTR DNS records.\n",
    "\n",
    "Example\n",
    "\n",
    "get_domain(\"8.8.8.8\") ➞ \"dns.google\"\n",
    "\n",
    "get_domain(\"8.8.4.4\") ➞ \"dns.google\"\n"
   ]
  },
  {
   "cell_type": "code",
   "execution_count": 1,
   "metadata": {},
   "outputs": [],
   "source": [
    "import logging\n",
    "import socket\n",
    "logging.basicConfig(filename = \"Assignment4.log\", level = logging.INFO, \n",
    "                     format = '%(asctime)s %(levelname)s %(message)s')"
   ]
  },
  {
   "cell_type": "code",
   "execution_count": 2,
   "metadata": {},
   "outputs": [],
   "source": [
    "def get_domain(ip_address):\n",
    "    try:\n",
    "        result=socket.gethostbyaddr(ip_address)\n",
    "        ans = list(result)[0]\n",
    "        logging.info(\"Ques-4 executed succesfully\")\n",
    "        return ans\n",
    "\n",
    "    except Exception as e:\n",
    "        logging.exception(\"exception occured in Ques-4 \" + str(e))\n",
    "        raise Exception(\"get_domain function failed\")"
   ]
  },
  {
   "cell_type": "code",
   "execution_count": 3,
   "metadata": {},
   "outputs": [
    {
     "data": {
      "text/plain": [
       "'dns.google'"
      ]
     },
     "execution_count": 3,
     "metadata": {},
     "output_type": "execute_result"
    }
   ],
   "source": [
    "get_domain(\"8.8.8.8\")"
   ]
  },
  {
   "cell_type": "code",
   "execution_count": 4,
   "metadata": {},
   "outputs": [
    {
     "data": {
      "text/plain": [
       "'dns.google'"
      ]
     },
     "execution_count": 4,
     "metadata": {},
     "output_type": "execute_result"
    }
   ],
   "source": [
    "get_domain(\"8.8.4.4\")"
   ]
  }
 ],
 "metadata": {
  "interpreter": {
   "hash": "207c0d44758c6669a77097a940d54e0c958e1873e8368d84e343a511989e3c6f"
  },
  "kernelspec": {
   "display_name": "Python 3.8.8 64-bit ('base': conda)",
   "language": "python",
   "name": "python3"
  },
  "language_info": {
   "codemirror_mode": {
    "name": "ipython",
    "version": 3
   },
   "file_extension": ".py",
   "mimetype": "text/x-python",
   "name": "python",
   "nbconvert_exporter": "python",
   "pygments_lexer": "ipython3",
   "version": "3.8.8"
  },
  "orig_nbformat": 4
 },
 "nbformat": 4,
 "nbformat_minor": 2
}
