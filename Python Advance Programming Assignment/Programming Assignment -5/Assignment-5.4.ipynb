{
 "cells": [
  {
   "cell_type": "markdown",
   "metadata": {},
   "source": [
    "Q4. In mathematics a Polydivisible Number (or magic number) is a number in a given number base with digits abcde... that has the following properties:\n",
    "\n",
    "-  Its first digit *a* is not 0.\n",
    "- The number formed by its first two digits *ab* is a multiple of 2.\n",
    "- The number formed by its first three digits *abc* is a multiple of 3.\n",
    "- The number formed by its first four digits *abcd* is a multiple of 4.\n",
    "\n",
    "Create a function which takes an integer n and returns True if the given number is a Polydivisible Number and False otherwise.\n",
    "\n",
    "Examples\n",
    "\n",
    "is_polydivisible(1232) ➞ True\n",
    "* 1     / 1 = 1\n",
    "* 12    / 2 = 6\n",
    "* 123   / 3 = 41\n",
    "* 1232  / 4 = 308\n",
    "\n",
    "is_polydivisible(123220 ) ➞ False\n",
    "* 1   / 1 = 1\n",
    "* 12   / 2 = 6\n",
    "* 123   / 3 = 41\n",
    "* 1232   / 4 = 308\n",
    "* 12322   / 5 = 2464.4         * Not a Whole Number\n",
    "* 123220   / 6 = 220536.333...  * Not a Whole Number\n"
   ]
  },
  {
   "cell_type": "code",
   "execution_count": 1,
   "metadata": {},
   "outputs": [],
   "source": [
    "def is_polydivisible(n):\n",
    "    try:\n",
    "        dig = []\n",
    "\n",
    "        while (n > 0):\n",
    "            dig.append(n % 10)\n",
    "            n //= 10\n",
    " \n",
    "        dig = dig[::-1]\n",
    " \n",
    "        flag = True\n",
    "        n = dig[0]\n",
    "        for i in range(1, len(dig), 1):\n",
    "            n = n * 10 + dig[i]\n",
    "            if (n % (i + 1) != 0):\n",
    "                flag = False\n",
    "                break\n",
    "        return(flag)\n",
    "    \n",
    "    except Exception as e:\n",
    "        raise Exception(e)             "
   ]
  },
  {
   "cell_type": "code",
   "execution_count": 2,
   "metadata": {},
   "outputs": [
    {
     "data": {
      "text/plain": [
       "False"
      ]
     },
     "execution_count": 2,
     "metadata": {},
     "output_type": "execute_result"
    }
   ],
   "source": [
    "is_polydivisible(123220 )"
   ]
  },
  {
   "cell_type": "code",
   "execution_count": 3,
   "metadata": {},
   "outputs": [
    {
     "data": {
      "text/plain": [
       "True"
      ]
     },
     "execution_count": 3,
     "metadata": {},
     "output_type": "execute_result"
    }
   ],
   "source": [
    "is_polydivisible(1232)"
   ]
  },
  {
   "cell_type": "code",
   "execution_count": 4,
   "metadata": {},
   "outputs": [
    {
     "data": {
      "text/plain": [
       "False"
      ]
     },
     "execution_count": 4,
     "metadata": {},
     "output_type": "execute_result"
    }
   ],
   "source": [
    "is_polydivisible(123222)"
   ]
  }
 ],
 "metadata": {
  "interpreter": {
   "hash": "207c0d44758c6669a77097a940d54e0c958e1873e8368d84e343a511989e3c6f"
  },
  "kernelspec": {
   "display_name": "Python 3.8.8 ('base')",
   "language": "python",
   "name": "python3"
  },
  "language_info": {
   "codemirror_mode": {
    "name": "ipython",
    "version": 3
   },
   "file_extension": ".py",
   "mimetype": "text/x-python",
   "name": "python",
   "nbconvert_exporter": "python",
   "pygments_lexer": "ipython3",
   "version": "3.8.8"
  },
  "orig_nbformat": 4
 },
 "nbformat": 4,
 "nbformat_minor": 2
}
