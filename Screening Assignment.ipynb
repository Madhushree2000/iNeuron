{
 "cells": [
  {
   "cell_type": "markdown",
   "metadata": {},
   "source": [
    " ### 1. Create a function in python to read the text file and replace specific content of the file."
   ]
  },
  {
   "cell_type": "markdown",
   "metadata": {},
   "source": [
    "--> Original File"
   ]
  },
  {
   "cell_type": "code",
   "execution_count": 1,
   "metadata": {},
   "outputs": [],
   "source": [
    "#Creating a text file\n",
    "with open ('example.txt', 'w') as f:\n",
    "    f.write('This is a placement assignment')"
   ]
  },
  {
   "cell_type": "code",
   "execution_count": 2,
   "metadata": {},
   "outputs": [
    {
     "name": "stdout",
     "output_type": "stream",
     "text": [
      "This is a placement assignment\n"
     ]
    }
   ],
   "source": [
    "#Display the content\n",
    "with open('example.txt', 'r') as f:\n",
    "    print(f.read())"
   ]
  },
  {
   "cell_type": "markdown",
   "metadata": {},
   "source": [
    "--> Replaced File"
   ]
  },
  {
   "cell_type": "code",
   "execution_count": 3,
   "metadata": {},
   "outputs": [],
   "source": [
    "# Reading from file\n",
    "with open('example.txt', 'r') as f:\n",
    "    st = f.read()"
   ]
  },
  {
   "cell_type": "code",
   "execution_count": 4,
   "metadata": {},
   "outputs": [],
   "source": [
    "# Replacing string \n",
    "st = st.replace('placement','screening')"
   ]
  },
  {
   "cell_type": "code",
   "execution_count": 5,
   "metadata": {},
   "outputs": [],
   "source": [
    "# Writing into file\n",
    "with open('example.txt', 'w') as f:\n",
    "    f.write(st)"
   ]
  },
  {
   "cell_type": "code",
   "execution_count": 6,
   "metadata": {},
   "outputs": [
    {
     "name": "stdout",
     "output_type": "stream",
     "text": [
      "This is a screening assignment\n"
     ]
    }
   ],
   "source": [
    "#Display the new content\n",
    "with open('example.txt', 'r') as f:\n",
    "    print(f.read())"
   ]
  },
  {
   "cell_type": "markdown",
   "metadata": {},
   "source": [
    "### 2. Demonstrate use of abstract class, multiple inheritance and decorator in python using examples."
   ]
  },
  {
   "cell_type": "markdown",
   "metadata": {},
   "source": [
    "--> Abstract class"
   ]
  },
  {
   "cell_type": "code",
   "execution_count": 7,
   "metadata": {},
   "outputs": [],
   "source": [
    "from abc import ABC, abstractmethod\n",
    "\n",
    "# Abstract Class\n",
    "class Employee(ABC):\n",
    "\n",
    "    @abstractmethod\n",
    "    def name(self):\n",
    "        pass\n",
    "\n",
    "    @abstractmethod\n",
    "    def employee_id(self):\n",
    "        pass\n",
    "        \n",
    "    @abstractmethod\n",
    "    def salary(self):\n",
    "        pass"
   ]
  },
  {
   "cell_type": "code",
   "execution_count": 8,
   "metadata": {},
   "outputs": [],
   "source": [
    "# Child Classes\n",
    "class clerk(Employee):\n",
    "\n",
    "    def name(self):\n",
    "        return(\"Abhi Saxena\")\n",
    "\n",
    "    def employee_id(self):\n",
    "        return(\"ABC121\")\n",
    "\n",
    "    def salary(self):\n",
    "        return(\"20000 INR\")\n",
    "\n",
    "class consultant(Employee):\n",
    "\n",
    "    def name(self):\n",
    "        return(\"Ujwal Jain\")\n",
    "\n",
    "    def employee_id(self):\n",
    "       return(\"ABC122\")\n",
    "    \n",
    "    def salary(self):\n",
    "        return(\"42000 INR\")\n",
    "\n",
    "class manager(Employee):\n",
    "\n",
    "    def name(self):\n",
    "        return(\"Deepak Kaur\")\n",
    "\n",
    "    def employee_id(self):\n",
    "        return(\"ABC123\")\n",
    "\n",
    "    def salary(self):\n",
    "       return(\"58000 INR\")"
   ]
  },
  {
   "cell_type": "code",
   "execution_count": 9,
   "metadata": {},
   "outputs": [
    {
     "name": "stdout",
     "output_type": "stream",
     "text": [
      "Employee  : Deepak Kaur\n",
      "Employee ID  : ABC123\n",
      "Employee Salary  : 58000 INR\n"
     ]
    }
   ],
   "source": [
    "emp = manager()\n",
    "print(\"Employee  : \" + emp.name())\n",
    "print(\"Employee ID  : \" + emp.employee_id())\n",
    "print(\"Employee Salary  : \" + emp.salary())\n"
   ]
  },
  {
   "cell_type": "code",
   "execution_count": 10,
   "metadata": {},
   "outputs": [
    {
     "name": "stdout",
     "output_type": "stream",
     "text": [
      "Employee  : Abhi Saxena\n",
      "Employee ID  : ABC121\n",
      "Employee Salary  : 20000 INR\n"
     ]
    }
   ],
   "source": [
    "emp = clerk()\n",
    "print(\"Employee  : \" + emp.name())\n",
    "print(\"Employee ID  : \" + emp.employee_id())\n",
    "print(\"Employee Salary  : \" + emp.salary())"
   ]
  },
  {
   "cell_type": "markdown",
   "metadata": {},
   "source": [
    "--> Multiple Inheritence"
   ]
  },
  {
   "cell_type": "code",
   "execution_count": 11,
   "metadata": {},
   "outputs": [],
   "source": [
    "# Base Class 1\n",
    "class parent1:\n",
    "    def __init__(self,a,b):\n",
    "        self.a = a\n",
    "        self.b = b \n",
    "\n",
    "    def sum(self):\n",
    "      print(\"sum = \", self.a + self.b)\n",
    "\n",
    "# Base Class 2\n",
    "class parent2:\n",
    "    def __init__(self,x,y):\n",
    "        self.p = x\n",
    "        self.q = y\n",
    "\n",
    "    def diff(self):\n",
    "        print(\"difference = \", self.p - self.q)\n",
    "\n",
    "\n",
    "# Child class\n",
    "class child1(parent1,parent2):\n",
    "    def __init__(self,*args,a,b):\n",
    "        # same values will be passed to both the classes\n",
    "        parent1.__init__(self,*args)\n",
    "        parent2.__init__(self,*args)\n",
    "        self.i = a\n",
    "        self.j = b\n",
    "\n",
    "    def mult(self):\n",
    "         print(\"product = \", self.i * self.j)\n"
   ]
  },
  {
   "cell_type": "code",
   "execution_count": 12,
   "metadata": {},
   "outputs": [],
   "source": [
    "test1 = child1(10,5,a=2,b=3)"
   ]
  },
  {
   "cell_type": "code",
   "execution_count": 13,
   "metadata": {},
   "outputs": [
    {
     "name": "stdout",
     "output_type": "stream",
     "text": [
      "sum =  15\n"
     ]
    }
   ],
   "source": [
    "test1.sum()"
   ]
  },
  {
   "cell_type": "code",
   "execution_count": 14,
   "metadata": {},
   "outputs": [
    {
     "name": "stdout",
     "output_type": "stream",
     "text": [
      "difference =  5\n"
     ]
    }
   ],
   "source": [
    "test1.diff()"
   ]
  },
  {
   "cell_type": "code",
   "execution_count": 15,
   "metadata": {},
   "outputs": [
    {
     "name": "stdout",
     "output_type": "stream",
     "text": [
      "product =  6\n"
     ]
    }
   ],
   "source": [
    "test1.mult()"
   ]
  },
  {
   "cell_type": "markdown",
   "metadata": {},
   "source": [
    "--> Decorator"
   ]
  },
  {
   "cell_type": "code",
   "execution_count": 16,
   "metadata": {},
   "outputs": [],
   "source": [
    "class statclass:\n",
    "    \n",
    "    def __init__(self,a):\n",
    "        self.a = a #instance variable\n",
    "        \n",
    "    @staticmethod #decorator\n",
    "    def student1(): #static method\n",
    "        print(\"this is a static method\")\n",
    "        \n",
    "    def student2(self): #instance function\n",
    "        print(\"this\", self.a ,\" a static method\")"
   ]
  },
  {
   "cell_type": "code",
   "execution_count": 17,
   "metadata": {},
   "outputs": [],
   "source": [
    "obj = statclass(\"not\")"
   ]
  },
  {
   "cell_type": "code",
   "execution_count": 18,
   "metadata": {},
   "outputs": [
    {
     "name": "stdout",
     "output_type": "stream",
     "text": [
      "this is a static method\n"
     ]
    }
   ],
   "source": [
    "obj.student1()"
   ]
  },
  {
   "cell_type": "code",
   "execution_count": 19,
   "metadata": {},
   "outputs": [
    {
     "name": "stdout",
     "output_type": "stream",
     "text": [
      "this not  a static method\n"
     ]
    }
   ],
   "source": [
    "obj.student2()"
   ]
  }
 ],
 "metadata": {
  "kernelspec": {
   "display_name": "Python 3.8.8 ('base')",
   "language": "python",
   "name": "python3"
  },
  "language_info": {
   "codemirror_mode": {
    "name": "ipython",
    "version": 3
   },
   "file_extension": ".py",
   "mimetype": "text/x-python",
   "name": "python",
   "nbconvert_exporter": "python",
   "pygments_lexer": "ipython3",
   "version": "3.8.8"
  },
  "orig_nbformat": 4,
  "vscode": {
   "interpreter": {
    "hash": "207c0d44758c6669a77097a940d54e0c958e1873e8368d84e343a511989e3c6f"
   }
  }
 },
 "nbformat": 4,
 "nbformat_minor": 2
}
