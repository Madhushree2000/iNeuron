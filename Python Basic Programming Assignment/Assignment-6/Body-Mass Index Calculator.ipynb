{
 "cells": [
  {
   "cell_type": "markdown",
   "metadata": {},
   "source": [
    "Q3. Write a Python Program to calculate your Body Mass Index?"
   ]
  },
  {
   "cell_type": "code",
   "execution_count": 18,
   "metadata": {},
   "outputs": [],
   "source": [
    "def BMI_cal(weight,height,unit = 1): #unit in kg and m by default\n",
    "        BMI = weight / (height*height)\n",
    "        \n",
    "        if unit == 2: #unit in lbs and inches\n",
    "            BMI *=703\n",
    "        \n",
    "        BMI_res = \"Your BMI score is \" + str(BMI) + \".  \"\n",
    "\n",
    "        if BMI < 18.5:\n",
    "            BMI_res =  BMI_res + \"You are UNDERWEIGHT\"\n",
    "\n",
    "        if BMI >= 18.5 and BMI <=24.9:\n",
    "            BMI_res =  BMI_res +  \"You are NORMAL WEIGHT\"\n",
    "\n",
    "        if BMI >= 25 and BMI <=29.9:\n",
    "            BMI_res =  BMI_res +  \"You are OVER WEIGHT\"        \n",
    "            \n",
    "        if BMI >= 30:\n",
    "            BMI_res =  BMI_res +  \"You are OBESE\"\n",
    " \n",
    "        return BMI_res"
   ]
  },
  {
   "cell_type": "code",
   "execution_count": 19,
   "metadata": {},
   "outputs": [
    {
     "data": {
      "text/plain": [
       "'Your BMI score is 21.16516620498615.  You are NORMAL WEIGHT'"
      ]
     },
     "execution_count": 19,
     "metadata": {},
     "output_type": "execute_result"
    }
   ],
   "source": [
    "BMI_cal(48.9,1.52)"
   ]
  },
  {
   "cell_type": "code",
   "execution_count": 20,
   "metadata": {},
   "outputs": [
    {
     "data": {
      "text/plain": [
       "'Your BMI score is 33.04487286578235.  You are OBESE'"
      ]
     },
     "execution_count": 20,
     "metadata": {},
     "output_type": "execute_result"
    }
   ],
   "source": [
    "BMI_cal(98.9,1.73,1)"
   ]
  },
  {
   "cell_type": "code",
   "execution_count": 23,
   "metadata": {},
   "outputs": [
    {
     "data": {
      "text/plain": [
       "'Your BMI score is 22.71976443550704.  You are NORMAL WEIGHT'"
      ]
     },
     "execution_count": 23,
     "metadata": {},
     "output_type": "execute_result"
    }
   ],
   "source": [
    "BMI_cal(162,70.8,2)"
   ]
  }
 ],
 "metadata": {
  "interpreter": {
   "hash": "207c0d44758c6669a77097a940d54e0c958e1873e8368d84e343a511989e3c6f"
  },
  "kernelspec": {
   "display_name": "Python 3.8.8 64-bit ('base': conda)",
   "language": "python",
   "name": "python3"
  },
  "language_info": {
   "codemirror_mode": {
    "name": "ipython",
    "version": 3
   },
   "file_extension": ".py",
   "mimetype": "text/x-python",
   "name": "python",
   "nbconvert_exporter": "python",
   "pygments_lexer": "ipython3",
   "version": "3.8.8"
  },
  "orig_nbformat": 4
 },
 "nbformat": 4,
 "nbformat_minor": 2
}
